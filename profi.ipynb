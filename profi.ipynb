{
 "cells": [
  {
   "cell_type": "code",
   "execution_count": 110,
   "metadata": {
    "scrolled": false
   },
   "outputs": [
    {
     "name": "stdout",
     "output_type": "stream",
     "text": [
      "Выведем некоторые из первых чисел N, при которых выполняется \n",
      " условие, что орлов на 10% больше чем решек и сохраняется целочисленность\n",
      "N:\tОрлов из них:\n",
      "21\t11\n",
      "42\t22\n",
      "63\t33\n",
      "84\t44\n",
      "105\t55\n",
      "126\t66\n",
      "147\t77\n",
      "168\t88\n",
      "189\t99\n",
      "210\t110\n",
      "231\t121\n",
      "252\t132\n",
      "273\t143\n",
      "294\t154\n",
      "315\t165\n",
      "336\t176\n",
      "357\t187\n",
      "378\t198\n",
      "399\t209\n"
     ]
    }
   ],
   "source": [
    "print(\"Выведем некоторые из первых чисел N, при которых выполняется \\n \\\n",
    "условие, что орлов на 10% больше чем решек и сохраняется целочисленность\")\n",
    "print(\"N:\", \"Орлов из них:\", sep = '\\t')\n",
    "\n",
    "possiblens = dict()\n",
    "\n",
    "for i in range(1,11000):\n",
    "    if round(i * 1.1, 5) % 1 == 0:\n",
    "        if i < 200:\n",
    "            print(int(i+i*1.1), int(i*1.1), sep = '\\t')\n",
    "        possiblens[int(i+i*1.1)] = int(i*1.1)\n",
    "        "
   ]
  },
  {
   "cell_type": "markdown",
   "metadata": {},
   "source": [
    "### Воспользуемся  тестом для проверки параметра биномиального распределения $p_o= 0.5$ при $\\alpha=0.5$\n",
    "### $H_0: p_o <= 0.5$\n",
    "### $H_1: p_o > 0.5$"
   ]
  },
  {
   "cell_type": "code",
   "execution_count": 107,
   "metadata": {},
   "outputs": [
    {
     "name": "stdout",
     "output_type": "stream",
     "text": [
      "1239 649\n"
     ]
    }
   ],
   "source": [
    "import scipy.stats as stats\n",
    "\n",
    "for i,j in possiblens.items():  #Проходимся по количеству экспериментов и успешным результатам (успешным считаестя \"Орёл\")\n",
    "    if stats.binom_test(x=j, n=i, p=0.5, alternative='greater') < 0.05:  #Функция возвращает pv, сравниваем с alpha\n",
    "        print(i,j)\n",
    "        break #Когда pv оказывается меньше alpha останавливаем цикл и выводим нужный N"
   ]
  },
  {
   "cell_type": "markdown",
   "metadata": {},
   "source": [
    "### При $N = 1239$ $pvalue < \\alpha$, следовательно отвергается гипотеза $H_0$ и можно сделать вывод о том, что монетка \"нечестная\", вероятность выпадения \"Орла\" оказалась выше 0.5"
   ]
  }
 ],
 "metadata": {
  "kernelspec": {
   "display_name": "Python 3",
   "language": "python",
   "name": "python3"
  },
  "language_info": {
   "codemirror_mode": {
    "name": "ipython",
    "version": 3
   },
   "file_extension": ".py",
   "mimetype": "text/x-python",
   "name": "python",
   "nbconvert_exporter": "python",
   "pygments_lexer": "ipython3",
   "version": "3.7.6"
  }
 },
 "nbformat": 4,
 "nbformat_minor": 4
}
